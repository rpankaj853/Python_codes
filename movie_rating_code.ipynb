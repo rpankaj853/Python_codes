{
 "cells": [
  {
   "cell_type": "code",
   "execution_count": 3,
   "metadata": {},
   "outputs": [
    {
     "name": "stdout",
     "output_type": "stream",
     "text": [
      "[('avatar', 5), ('Harry_potter', 3), ('The_lion_king', 2), ('Harry_potter', 1), ('avatar', 2)]\n"
     ]
    }
   ],
   "source": []
  },
  {
   "cell_type": "code",
   "execution_count": 32,
   "metadata": {},
   "outputs": [
    {
     "name": "stdout",
     "output_type": "stream",
     "text": [
      "avatar rating 3.5\n",
      "harry potter rating  2.0\n",
      "The lion rating  2.0\n"
     ]
    }
   ],
   "source": [
    "tp = [('avatar',5),('Harry_potter', 3),('The_lion_king', 2), ('Harry_potter', 1), ('avatar',2)]\n",
    "count =avatar_rate= harr_rate= the_lion_rate =avlen= hrlen= lilen =   0\n",
    "\n",
    "for i in range(0,len(tp)):\n",
    "    \n",
    "    if tp[i][0] == 'avatar':\n",
    "        avatar_rate += tp[i][1]\n",
    "        avlen += 1 \n",
    "        \n",
    "    elif tp[i][0] == 'Harry_potter':\n",
    "        harr_rate += tp[i][1]\n",
    "        hrlen += 1\n",
    "    elif tp[i][0] == 'The_lion_king':\n",
    "        the_lion_rate += tp[i][1]\n",
    "        lilen += 1\n",
    "\n",
    "avatar_rate = avatar_rate / avlen\n",
    "harr_rate = harr_rate / hrlen\n",
    "the_lion_rate = the_lion_rate / lilen\n",
    "\n",
    "print('avatar rating',avatar_rate)\n",
    "print('harry potter rating ',harr_rate)\n",
    "print('The lion rating ',the_lion_rate)\n",
    "        \n"
   ]
  },
  {
   "cell_type": "code",
   "execution_count": null,
   "metadata": {},
   "outputs": [],
   "source": []
  }
 ],
 "metadata": {
  "kernelspec": {
   "display_name": "Python 3",
   "language": "python",
   "name": "python3"
  },
  "language_info": {
   "codemirror_mode": {
    "name": "ipython",
    "version": 3
   },
   "file_extension": ".py",
   "mimetype": "text/x-python",
   "name": "python",
   "nbconvert_exporter": "python",
   "pygments_lexer": "ipython3",
   "version": "3.8.3"
  }
 },
 "nbformat": 4,
 "nbformat_minor": 4
}
