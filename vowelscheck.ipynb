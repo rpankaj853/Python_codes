{
 "cells": [
  {
   "cell_type": "code",
   "execution_count": 30,
   "metadata": {},
   "outputs": [
    {
     "name": "stdout",
     "output_type": "stream",
     "text": [
      "hello welcome\n",
      "0\n",
      "e:3\n",
      "0\n",
      "o:2\n",
      "0\n"
     ]
    }
   ],
   "source": [
    "result = sums = 0\n",
    "sts = input()\n",
    "if any(char.isdigit() for char in sts):\n",
    "    print(result)\n",
    "\n",
    "elif not sts:\n",
    "        print(\"INVALID INPUT\")\n",
    "\n",
    "else:\n",
    "    for vowel in \"aeiou\":\n",
    "        counts = sts.count(vowel)\n",
    "        print(str(vowel)+':'+str(counts))\n",
    "    \n",
    "\n",
    "\n"
   ]
  },
  {
   "cell_type": "code",
   "execution_count": null,
   "metadata": {},
   "outputs": [],
   "source": []
  },
  {
   "cell_type": "code",
   "execution_count": null,
   "metadata": {},
   "outputs": [],
   "source": []
  }
 ],
 "metadata": {
  "kernelspec": {
   "display_name": "Python 3",
   "language": "python",
   "name": "python3"
  },
  "language_info": {
   "codemirror_mode": {
    "name": "ipython",
    "version": 3
   },
   "file_extension": ".py",
   "mimetype": "text/x-python",
   "name": "python",
   "nbconvert_exporter": "python",
   "pygments_lexer": "ipython3",
   "version": "3.8.3"
  }
 },
 "nbformat": 4,
 "nbformat_minor": 4
}
