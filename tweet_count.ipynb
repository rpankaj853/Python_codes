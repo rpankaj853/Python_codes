{
 "cells": [
  {
   "cell_type": "code",
   "execution_count": 159,
   "metadata": {},
   "outputs": [],
   "source": [
    "def tweetcount():\n",
    "    x = y = 0\n",
    "    lis = lis1 =lis2 =  []\n",
    "    x = input()\n",
    "    y = input()\n",
    "    for i in range(0,int(y)):\n",
    "        ele = input()\n",
    "        lis.append(ele)\n",
    "        \n",
    "    for i in range(len(lis)):\n",
    "        lis2 = lis[i] +\"  \" + 'tweet_id_' + str(i)\n",
    "        print(lis2)\n",
    "        \n",
    "    #print(lis)\n",
    "        \n",
    "    from collections import Counter\n",
    "    word_counts = Counter(lis)\n",
    "    \n",
    "    lis = dict(word_counts)\n",
    "    #print(lis)\n",
    "    \n",
    "    lis1 = list(sorted(lis.values()))\n",
    "    mas = max(lis1)\n",
    "    #print(mas)\n",
    "    for i in lis:\n",
    "        if mas == lis[i]:\n",
    "            print(i , lis[i])\n",
    "        else:\n",
    "            pass\n",
    "    \n",
    "            \n",
    "    \n",
    "            \n",
    "    \n",
    "    \n",
    "                   \n",
    "        \n",
    "       \n",
    "    \n",
    "    \n",
    "        \n",
    "    "
   ]
  },
  {
   "cell_type": "code",
   "execution_count": 160,
   "metadata": {},
   "outputs": [
    {
     "name": "stdout",
     "output_type": "stream",
     "text": [
      "1\n",
      "5\n",
      "shobit\n",
      "rohit\n",
      "shobit\n",
      "rohit\n",
      "thakur\n",
      "shobit  tweet_id_0\n",
      "rohit  tweet_id_1\n",
      "shobit  tweet_id_2\n",
      "rohit  tweet_id_3\n",
      "thakur  tweet_id_4\n",
      "shobit 2\n",
      "rohit 2\n"
     ]
    }
   ],
   "source": [
    "tweetcount()"
   ]
  },
  {
   "cell_type": "raw",
   "metadata": {},
   "source": []
  },
  {
   "cell_type": "code",
   "execution_count": 47,
   "metadata": {},
   "outputs": [
    {
     "name": "stdout",
     "output_type": "stream",
     "text": [
      "1\n",
      "4\n",
      "er\n",
      "rt\n",
      "ty\n",
      "ew\n",
      "['er', 'rt', 'ty', 'ew']\n",
      "er 1\n",
      "rt 1\n",
      "ty 1\n",
      "ew 1\n",
      "['er', 'rt', 'ty', 'ew', 0, 0, 0, 0]\n"
     ]
    }
   ],
   "source": [
    "\n"
   ]
  },
  {
   "cell_type": "code",
   "execution_count": null,
   "metadata": {},
   "outputs": [],
   "source": []
  },
  {
   "cell_type": "code",
   "execution_count": null,
   "metadata": {},
   "outputs": [],
   "source": []
  }
 ],
 "metadata": {
  "kernelspec": {
   "display_name": "Python 3",
   "language": "python",
   "name": "python3"
  },
  "language_info": {
   "codemirror_mode": {
    "name": "ipython",
    "version": 3
   },
   "file_extension": ".py",
   "mimetype": "text/x-python",
   "name": "python",
   "nbconvert_exporter": "python",
   "pygments_lexer": "ipython3",
   "version": "3.8.3"
  }
 },
 "nbformat": 4,
 "nbformat_minor": 4
}
