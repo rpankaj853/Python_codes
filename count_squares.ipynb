{
 "cells": [
  {
   "cell_type": "code",
   "execution_count": 42,
   "metadata": {},
   "outputs": [
    {
     "name": "stdout",
     "output_type": "stream",
     "text": [
      "2\n",
      "size of a shape 2 * 2\n",
      "Total number of squares in a given shape 5\n"
     ]
    }
   ],
   "source": [
    "tr =0\n",
    "n = int(input())\n",
    "print('size of a shape {} * {}'.format(n,n))\n",
    "if n == 1:\n",
    "    \n",
    "    print('Total number of squares in a given shape',n)\n",
    "else:\n",
    "    \n",
    "    for i in range(1 , n+1):\n",
    "        tr  += i ** 2\n",
    "    print('Total number of squares in a given shape',tr)\n",
    "               "
   ]
  }
 ],
 "metadata": {
  "kernelspec": {
   "display_name": "Python 3",
   "language": "python",
   "name": "python3"
  },
  "language_info": {
   "codemirror_mode": {
    "name": "ipython",
    "version": 3
   },
   "file_extension": ".py",
   "mimetype": "text/x-python",
   "name": "python",
   "nbconvert_exporter": "python",
   "pygments_lexer": "ipython3",
   "version": "3.8.3"
  }
 },
 "nbformat": 4,
 "nbformat_minor": 4
}
