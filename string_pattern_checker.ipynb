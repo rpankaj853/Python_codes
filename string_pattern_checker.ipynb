{
 "cells": [
  {
   "cell_type": "code",
   "execution_count": 2,
   "metadata": {},
   "outputs": [
    {
     "name": "stdout",
     "output_type": "stream",
     "text": [
      "hello\n",
      "hey\n",
      "False\n"
     ]
    }
   ],
   "source": [
    "def  checker():\n",
    "    \n",
    "    count =  0\n",
    "    a = list(input())\n",
    "    b = list(input())\n",
    "\n",
    "    \n",
    "    for i in b:\n",
    "        if i not in  a :\n",
    "            \n",
    "            count += 1        \n",
    "            \n",
    "    if count == 0:\n",
    "        print(True)\n",
    "        \n",
    "    else :\n",
    "        print(False)\n",
    "            \n",
    "            \n",
    "    \n",
    "checker()\n",
    "    "
   ]
  },
  {
   "cell_type": "code",
   "execution_count": 46,
   "metadata": {},
   "outputs": [],
   "source": []
  },
  {
   "cell_type": "code",
   "execution_count": null,
   "metadata": {},
   "outputs": [],
   "source": [
    "\n",
    "\n"
   ]
  },
  {
   "cell_type": "code",
   "execution_count": 47,
   "metadata": {},
   "outputs": [
    {
     "name": "stdout",
     "output_type": "stream",
     "text": [
      "10\n"
     ]
    }
   ],
   "source": []
  }
 ],
 "metadata": {
  "kernelspec": {
   "display_name": "Python 3",
   "language": "python",
   "name": "python3"
  },
  "language_info": {
   "codemirror_mode": {
    "name": "ipython",
    "version": 3
   },
   "file_extension": ".py",
   "mimetype": "text/x-python",
   "name": "python",
   "nbconvert_exporter": "python",
   "pygments_lexer": "ipython3",
   "version": "3.8.3"
  }
 },
 "nbformat": 4,
 "nbformat_minor": 4
}
